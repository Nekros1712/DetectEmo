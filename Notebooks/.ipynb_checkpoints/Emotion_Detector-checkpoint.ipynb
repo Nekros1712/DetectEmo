{
 "cells": [
  {
   "cell_type": "markdown",
   "id": "ab423ed9",
   "metadata": {
    "id": "ab423ed9"
   },
   "source": [
    "# Emotion Detector App using Streamlit\n",
    "- Detecting emotions\n",
    "- Text Classifier"
   ]
  },
  {
   "cell_type": "code",
   "execution_count": 3,
   "id": "8596bdd1",
   "metadata": {
    "id": "8596bdd1"
   },
   "outputs": [],
   "source": [
    "# Importing necessary packages\n",
    "\n",
    "# Exploratory Data Analysis Packages\n",
    "import pandas as pd\n",
    "import numpy as np\n",
    "import joblib\n",
    "\n",
    "# Text Cleaning \n",
    "import neattext.functions as nfx\n",
    "\n",
    "# Visualization Packages\n",
    "import matplotlib.pyplot as plt\n",
    "import seaborn as sns\n",
    "\n",
    "# Machine Learning Packages\n",
    "from sklearn.feature_extraction.text import CountVectorizer\n",
    "from sklearn.model_selection import train_test_split\n",
    "from sklearn.pipeline import Pipeline\n",
    "from sklearn.naive_bayes import MultinomialNB\n",
    "from sklearn.metrics import accuracy_score, confusion_matrix, classification_report\n",
    "\n",
    "# Importing all models\n",
    "from sklearn.svm import SVC\n",
    "from xgboost import XGBClassifier\n",
    "from sklearn.cluster import KMeans\n",
    "from sklearn.tree import DecisionTreeClassifier\n",
    "from sklearn.ensemble import AdaBoostClassifier\n",
    "from sklearn.linear_model import RidgeClassifier\n",
    "from sklearn.ensemble import ExtraTreesClassifier\n",
    "from sklearn.neighbors import KNeighborsClassifier\n",
    "from sklearn.ensemble import RandomForestClassifier\n",
    "from sklearn.linear_model import LogisticRegression"
   ]
  },
  {
   "cell_type": "code",
   "execution_count": 4,
   "id": "376a967a",
   "metadata": {
    "id": "376a967a"
   },
   "outputs": [],
   "source": [
    "# Setting properties\n",
    "pd.set_option('display.max_colwidth', None)"
   ]
  },
  {
   "cell_type": "code",
   "execution_count": 5,
   "id": "c7dbf635",
   "metadata": {
    "id": "c7dbf635"
   },
   "outputs": [],
   "source": [
    "# Load the Dataset\n",
    "\n",
    "df = pd.read_csv('../Model/emotion_dataset_raw.csv')"
   ]
  },
  {
   "cell_type": "code",
   "execution_count": 6,
   "id": "deac09ab",
   "metadata": {
    "colab": {
     "base_uri": "https://localhost:8080/"
    },
    "id": "deac09ab",
    "outputId": "bf227718-3bd4-4228-ca9c-73a37e8ec90e"
   },
   "outputs": [
    {
     "name": "stdout",
     "output_type": "stream",
     "text": [
      "<class 'pandas.core.frame.DataFrame'>\n",
      "RangeIndex: 34792 entries, 0 to 34791\n",
      "Data columns (total 2 columns):\n",
      " #   Column   Non-Null Count  Dtype \n",
      "---  ------   --------------  ----- \n",
      " 0   Emotion  34792 non-null  object\n",
      " 1   Text     34792 non-null  object\n",
      "dtypes: object(2)\n",
      "memory usage: 543.8+ KB\n"
     ]
    }
   ],
   "source": [
    "df.info()"
   ]
  },
  {
   "cell_type": "code",
   "execution_count": 7,
   "id": "c635e59e",
   "metadata": {
    "colab": {
     "base_uri": "https://localhost:8080/",
     "height": 398
    },
    "id": "c635e59e",
    "outputId": "66355756-fd8a-4de5-97c1-1a580da57455"
   },
   "outputs": [
    {
     "data": {
      "text/html": [
       "<div>\n",
       "<style scoped>\n",
       "    .dataframe tbody tr th:only-of-type {\n",
       "        vertical-align: middle;\n",
       "    }\n",
       "\n",
       "    .dataframe tbody tr th {\n",
       "        vertical-align: top;\n",
       "    }\n",
       "\n",
       "    .dataframe thead th {\n",
       "        text-align: right;\n",
       "    }\n",
       "</style>\n",
       "<table border=\"1\" class=\"dataframe\">\n",
       "  <thead>\n",
       "    <tr style=\"text-align: right;\">\n",
       "      <th></th>\n",
       "      <th>Emotion</th>\n",
       "      <th>Text</th>\n",
       "    </tr>\n",
       "  </thead>\n",
       "  <tbody>\n",
       "    <tr>\n",
       "      <th>0</th>\n",
       "      <td>neutral</td>\n",
       "      <td>Why ?</td>\n",
       "    </tr>\n",
       "    <tr>\n",
       "      <th>1</th>\n",
       "      <td>joy</td>\n",
       "      <td>Sage Act upgrade on my to do list for tommorow.</td>\n",
       "    </tr>\n",
       "    <tr>\n",
       "      <th>2</th>\n",
       "      <td>sadness</td>\n",
       "      <td>ON THE WAY TO MY HOMEGIRL BABY FUNERAL!!! MAN I HATE FUNERALS THIS REALLY SHOWS ME HOW BLESSED I AM</td>\n",
       "    </tr>\n",
       "    <tr>\n",
       "      <th>3</th>\n",
       "      <td>joy</td>\n",
       "      <td>Such an eye ! The true hazel eye-and so brilliant ! Regular features , open countenance , with a complexion , Oh ! What a bloom of full health , and such a pretty height and size ; such a firm and upright figure ! There is health , not merely in her bloom , but in her air , her head , her glance . One hears sometimes of a child being ' the picture of health ' ; now , she always gives me the idea of being the complete picture of grown-up health . She is loveliness itself .</td>\n",
       "    </tr>\n",
       "    <tr>\n",
       "      <th>4</th>\n",
       "      <td>joy</td>\n",
       "      <td>@Iluvmiasantos ugh babe.. hugggzzz for u .!  babe naamazed nga ako e babe e, despite nega's mas pinaramdam at fil ko ang</td>\n",
       "    </tr>\n",
       "    <tr>\n",
       "      <th>5</th>\n",
       "      <td>fear</td>\n",
       "      <td>I'm expecting an extremely important phonecall any minute now #terror #opportunity</td>\n",
       "    </tr>\n",
       "    <tr>\n",
       "      <th>6</th>\n",
       "      <td>sadness</td>\n",
       "      <td>.Couldnt wait to see them live. If missing them in NH7 wasnt painful enuf, Suraj 's performing his last gig in delhi.</td>\n",
       "    </tr>\n",
       "    <tr>\n",
       "      <th>7</th>\n",
       "      <td>surprise</td>\n",
       "      <td>maken Tip 2: Stop op een moment dat je het hele project wel ziet zitten. Nu dus. #derestkomtlaterwel</td>\n",
       "    </tr>\n",
       "    <tr>\n",
       "      <th>8</th>\n",
       "      <td>surprise</td>\n",
       "      <td>En dan krijg je ff een cadeautje van een tweep #melike</td>\n",
       "    </tr>\n",
       "    <tr>\n",
       "      <th>9</th>\n",
       "      <td>surprise</td>\n",
       "      <td>@1116am Drummer Boy bij op verzoek van @BiemOosterhof . @frankcornet : welke uitvoering, van wie?</td>\n",
       "    </tr>\n",
       "  </tbody>\n",
       "</table>\n",
       "</div>"
      ],
      "text/plain": [
       "    Emotion                                                                                                                                                                                                                                                                                                                                                                                                                                                                                            Text\n",
       "0   neutral                                                                                                                                                                                                                                                                                                                                                                                                                                                                                          Why ? \n",
       "1       joy                                                                                                                                                                                                                                                                                                                                                                                                                                                 Sage Act upgrade on my to do list for tommorow.\n",
       "2   sadness                                                                                                                                                                                                                                                                                                                                                                                            ON THE WAY TO MY HOMEGIRL BABY FUNERAL!!! MAN I HATE FUNERALS THIS REALLY SHOWS ME HOW BLESSED I AM \n",
       "3       joy   Such an eye ! The true hazel eye-and so brilliant ! Regular features , open countenance , with a complexion , Oh ! What a bloom of full health , and such a pretty height and size ; such a firm and upright figure ! There is health , not merely in her bloom , but in her air , her head , her glance . One hears sometimes of a child being ' the picture of health ' ; now , she always gives me the idea of being the complete picture of grown-up health . She is loveliness itself . \n",
       "4       joy                                                                                                                                                                                                                                                                                                                                                                       @Iluvmiasantos ugh babe.. hugggzzz for u .!  babe naamazed nga ako e babe e, despite nega's mas pinaramdam at fil ko ang \n",
       "5      fear                                                                                                                                                                                                                                                                                                                                                                                                              I'm expecting an extremely important phonecall any minute now #terror #opportunity\n",
       "6   sadness                                                                                                                                                                                                                                                                                                                                                                          .Couldnt wait to see them live. If missing them in NH7 wasnt painful enuf, Suraj 's performing his last gig in delhi. \n",
       "7  surprise                                                                                                                                                                                                                                                                                                                                                                                            maken Tip 2: Stop op een moment dat je het hele project wel ziet zitten. Nu dus. #derestkomtlaterwel\n",
       "8  surprise                                                                                                                                                                                                                                                                                                                                                                                                                                          En dan krijg je ff een cadeautje van een tweep #melike\n",
       "9  surprise                                                                                                                                                                                                                                                                                                                                                                                               @1116am Drummer Boy bij op verzoek van @BiemOosterhof . @frankcornet : welke uitvoering, van wie?"
      ]
     },
     "execution_count": 7,
     "metadata": {
      "tags": []
     },
     "output_type": "execute_result"
    }
   ],
   "source": [
    "df.head(10)"
   ]
  },
  {
   "cell_type": "code",
   "execution_count": 8,
   "id": "47202805",
   "metadata": {
    "colab": {
     "base_uri": "https://localhost:8080/"
    },
    "id": "47202805",
    "outputId": "a031e0ea-8168-46ee-d628-ee722c6068e5"
   },
   "outputs": [
    {
     "data": {
      "text/plain": [
       "joy         11045\n",
       "sadness      6722\n",
       "fear         5410\n",
       "anger        4297\n",
       "surprise     4062\n",
       "neutral      2254\n",
       "disgust       856\n",
       "shame         146\n",
       "Name: Emotion, dtype: int64"
      ]
     },
     "execution_count": 8,
     "metadata": {
      "tags": []
     },
     "output_type": "execute_result"
    }
   ],
   "source": [
    "# Counting rows for emotion types\n",
    "df['Emotion'].value_counts()"
   ]
  },
  {
   "cell_type": "code",
   "execution_count": 9,
   "id": "45b4d4bc",
   "metadata": {
    "colab": {
     "base_uri": "https://localhost:8080/",
     "height": 295
    },
    "id": "45b4d4bc",
    "outputId": "03e77c3d-2f62-4bca-9d2e-a5c8cfe9e026"
   },
   "outputs": [
    {
     "data": {
      "image/png": "[encoded data removed]",
      "text/plain": [
       "<Figure size 432x288 with 1 Axes>"
      ]
     },
     "metadata": {
      "needs_background": "light",
      "tags": []
     },
     "output_type": "display_data"
    }
   ],
   "source": [
    "# Plot Count of Emotions\n",
    "sns.countplot(x='Emotion', data = df)\n",
    "plt.title('Count of Different type of Emotions')\n",
    "plt.show()"
   ]
  },
  {
   "cell_type": "code",
   "execution_count": 10,
   "id": "425964b1",
   "metadata": {
    "colab": {
     "base_uri": "https://localhost:8080/"
    },
    "id": "425964b1",
    "outputId": "605f82e5-c287-4b3a-b73e-6e76188ce797"
   },
   "outputs": [
    {
     "data": {
      "text/plain": [
       "(34792, 2)"
      ]
     },
     "execution_count": 10,
     "metadata": {
      "tags": []
     },
     "output_type": "execute_result"
    }
   ],
   "source": [
    "df.shape"
   ]
  },
  {
   "cell_type": "code",
   "execution_count": 11,
   "id": "2f29bad2",
   "metadata": {
    "id": "2f29bad2"
   },
   "outputs": [],
   "source": [
    "df = df.drop_duplicates()"
   ]
  },
  {
   "cell_type": "code",
   "execution_count": 12,
   "id": "4d063413",
   "metadata": {
    "colab": {
     "base_uri": "https://localhost:8080/"
    },
    "id": "4d063413",
    "outputId": "7c0facf8-7a25-4b57-9c9a-b328d682606b"
   },
   "outputs": [
    {
     "data": {
      "text/plain": [
       "(31162, 2)"
      ]
     },
     "execution_count": 12,
     "metadata": {
      "tags": []
     },
     "output_type": "execute_result"
    }
   ],
   "source": [
    "df.shape"
   ]
  },
  {
   "cell_type": "code",
   "execution_count": 13,
   "id": "863cb451",
   "metadata": {
    "id": "863cb451"
   },
   "outputs": [],
   "source": [
    "# Removing StopWords\n",
    "df['CleanText'] = df['Text'].apply(nfx.remove_stopwords)"
   ]
  },
  {
   "cell_type": "code",
   "execution_count": 14,
   "id": "41cf2e63",
   "metadata": {
    "id": "41cf2e63"
   },
   "outputs": [],
   "source": [
    "# Remove UserHandles\n",
    "df['CleanText'] = df['CleanText'].apply(nfx.remove_userhandles)"
   ]
  },
  {
   "cell_type": "code",
   "execution_count": 15,
   "id": "01cb8803",
   "metadata": {
    "colab": {
     "base_uri": "https://localhost:8080/",
     "height": 310
    },
    "id": "01cb8803",
    "outputId": "aa30c8b2-e68e-48e4-8663-5a59938fa0cb"
   },
   "outputs": [
    {
     "data": {
      "text/html": [
       "<div>\n",
       "<style scoped>\n",
       "    .dataframe tbody tr th:only-of-type {\n",
       "        vertical-align: middle;\n",
       "    }\n",
       "\n",
       "    .dataframe tbody tr th {\n",
       "        vertical-align: top;\n",
       "    }\n",
       "\n",
       "    .dataframe thead th {\n",
       "        text-align: right;\n",
       "    }\n",
       "</style>\n",
       "<table border=\"1\" class=\"dataframe\">\n",
       "  <thead>\n",
       "    <tr style=\"text-align: right;\">\n",
       "      <th></th>\n",
       "      <th>Emotion</th>\n",
       "      <th>Text</th>\n",
       "      <th>CleanText</th>\n",
       "    </tr>\n",
       "  </thead>\n",
       "  <tbody>\n",
       "    <tr>\n",
       "      <th>0</th>\n",
       "      <td>neutral</td>\n",
       "      <td>Why ?</td>\n",
       "      <td>?</td>\n",
       "    </tr>\n",
       "    <tr>\n",
       "      <th>1</th>\n",
       "      <td>joy</td>\n",
       "      <td>Sage Act upgrade on my to do list for tommorow.</td>\n",
       "      <td>Sage Act upgrade list tommorow.</td>\n",
       "    </tr>\n",
       "    <tr>\n",
       "      <th>2</th>\n",
       "      <td>sadness</td>\n",
       "      <td>ON THE WAY TO MY HOMEGIRL BABY FUNERAL!!! MAN I HATE FUNERALS THIS REALLY SHOWS ME HOW BLESSED I AM</td>\n",
       "      <td>WAY HOMEGIRL BABY FUNERAL!!! MAN HATE FUNERALS SHOWS BLESSED</td>\n",
       "    </tr>\n",
       "    <tr>\n",
       "      <th>3</th>\n",
       "      <td>joy</td>\n",
       "      <td>Such an eye ! The true hazel eye-and so brilliant ! Regular features , open countenance , with a complexion , Oh ! What a bloom of full health , and such a pretty height and size ; such a firm and upright figure ! There is health , not merely in her bloom , but in her air , her head , her glance . One hears sometimes of a child being ' the picture of health ' ; now , she always gives me the idea of being the complete picture of grown-up health . She is loveliness itself .</td>\n",
       "      <td>eye ! true hazel eye-and brilliant ! Regular features , open countenance , complexion , Oh ! bloom health , pretty height size ; firm upright figure ! health , merely bloom , air , head , glance . hears child ' picture health ' ; , gives idea complete picture grown-up health . loveliness .</td>\n",
       "    </tr>\n",
       "    <tr>\n",
       "      <th>4</th>\n",
       "      <td>joy</td>\n",
       "      <td>@Iluvmiasantos ugh babe.. hugggzzz for u .!  babe naamazed nga ako e babe e, despite nega's mas pinaramdam at fil ko ang</td>\n",
       "      <td>ugh babe.. hugggzzz u .! babe naamazed nga ako e babe e, despite nega's mas pinaramdam fil ko ang</td>\n",
       "    </tr>\n",
       "  </tbody>\n",
       "</table>\n",
       "</div>"
      ],
      "text/plain": [
       "   Emotion  ...                                                                                                                                                                                                                                                                                           CleanText\n",
       "0  neutral  ...                                                                                                                                                                                                                                                                                                   ?\n",
       "1      joy  ...                                                                                                                                                                                                                                                                     Sage Act upgrade list tommorow.\n",
       "2  sadness  ...                                                                                                                                                                                                                                        WAY HOMEGIRL BABY FUNERAL!!! MAN HATE FUNERALS SHOWS BLESSED\n",
       "3      joy  ...  eye ! true hazel eye-and brilliant ! Regular features , open countenance , complexion , Oh ! bloom health , pretty height size ; firm upright figure ! health , merely bloom , air , head , glance . hears child ' picture health ' ; , gives idea complete picture grown-up health . loveliness .\n",
       "4      joy  ...                                                                                                                                                                                                   ugh babe.. hugggzzz u .! babe naamazed nga ako e babe e, despite nega's mas pinaramdam fil ko ang\n",
       "\n",
       "[5 rows x 3 columns]"
      ]
     },
     "execution_count": 15,
     "metadata": {
      "tags": []
     },
     "output_type": "execute_result"
    }
   ],
   "source": [
    "df.head(5)"
   ]
  },
  {
   "cell_type": "code",
   "execution_count": 16,
   "id": "c03a1c5c",
   "metadata": {
    "id": "c03a1c5c"
   },
   "outputs": [],
   "source": [
    "x_train, x_test, y_train, y_test = train_test_split(df['CleanText'], df['Emotion'], test_size=0.2, random_state=30)"
   ]
  },
  {
   "cell_type": "code",
   "execution_count": 17,
   "id": "NqNZ0Hs9fEEX",
   "metadata": {
    "id": "NqNZ0Hs9fEEX"
   },
   "outputs": [],
   "source": [
    "class md:\n",
    "  bold = '\\033[1m'\n",
    "  end = '\\033[0m'"
   ]
  },
  {
   "cell_type": "code",
   "execution_count": 23,
   "id": "42ffb2ac",
   "metadata": {
    "id": "42ffb2ac"
   },
   "outputs": [],
   "source": [
    "def buildModels(x_train, x_test, y_train, y_test):\n",
    "    \n",
    "    modelScores = {}\n",
    "    \n",
    "    models = [\n",
    "      ('K-MeansClassifier', KMeans()),\n",
    "      ('XGBClassifier', XGBClassifier()),\n",
    "      ('RidgeClassifier', RidgeClassifier()),\n",
    "      ('LogisticRegression', LogisticRegression(solver='lbfgs', max_iter=10000)),\n",
    "      ('ADABoostClassifier', AdaBoostClassifier()),\n",
    "      ('KNearestNeighbor', KNeighborsClassifier()),\n",
    "      ('ExtraTreesClassifier', ExtraTreesClassifier()),\n",
    "      ('SupportVectorClassifier', SVC(probability = True)),\n",
    "      ('RandomForestClassifier', RandomForestClassifier()),\n",
    "      ('DecisionTreeClassifier', DecisionTreeClassifier())\n",
    "    ]\n",
    "    \n",
    "    for model in models:\n",
    "        print(md.bold + \"========================================  \" + model[0] + \"  ========================================\" + md.end)\n",
    "        # Creating pipeline\n",
    "        print(md.bold + \"Creating Pipeline...\" + md.end)\n",
    "        pipeline = Pipeline(steps=[('cv', CountVectorizer()), model])\n",
    "        \n",
    "        # Training model\n",
    "        print(md.bold + \"Training Model...\" + md.end)\n",
    "        pipeline.fit(x_train, y_train)\n",
    "        \n",
    "        # Getting Results\n",
    "        print(md.bold + \"Data:\" + md.end)\n",
    "        print(pipeline.predict([\"i am so glad to hear such non sense\"]))\n",
    "        score = pipeline.score(x_test, y_test)\n",
    "        modelScores[model] = score\n",
    "        print(score)\n",
    "        \n",
    "        # Storing model\n",
    "        print(md.bold + \"Storing Model...\" + md.end)\n",
    "        with open(f\"/content/{model[0]}.pkl\", \"wb\") as ec:\n",
    "            joblib.dump(pipeline, ec)\n",
    "        print(md.bold + \"Process Complete!!\\n\\n\\n\" + md.end)\n",
    "\n",
    "    # Processing Model Scores\n",
    "    topScorers = sorted(set(modelScores.values()))\n",
    "    first = topScorers[-1]\n",
    "    firstName = [key for key, value in modelScores.items() if value == first]\n",
    "    second = topScorers[-2]\n",
    "    secondName = [key for key, value in modelScores.items() if value == second]\n",
    "\n",
    "    # Printing Processed Result\n",
    "    print(md.bold + \"Top 2 Scoring Models:\\n{}: {}\\n{}: {}\".format(firstName[0], first, secondName[0], second) + md.end)"
   ]
  },
  {
   "cell_type": "code",
   "execution_count": 24,
   "id": "43097279",
   "metadata": {
    "colab": {
     "base_uri": "https://localhost:8080/"
    },
    "id": "43097279",
    "outputId": "fa4880a6-65f7-46ae-caaa-c0d286bcd6c7"
   },
   "outputs": [
    {
     "name": "stdout",
     "output_type": "stream",
     "text": [
      "\u001b[1m========================================  KMC  ========================================\u001b[0m\n",
      "\u001b[1mCreating Pipeline...\u001b[0m\n",
      "\u001b[1mTraining Model...\u001b[0m\n",
      "\u001b[1mData:\u001b[0m\n",
      "[1]\n",
      "-47104.97859198532\n",
      "\u001b[1mStoring Model...\u001b[0m\n",
      "\u001b[1mProcess Complete!!\n",
      "\n",
      "\n",
      "\u001b[0m\n",
      "\u001b[1m========================================  XGB  ========================================\u001b[0m\n",
      "\u001b[1mCreating Pipeline...\u001b[0m\n",
      "\u001b[1mTraining Model...\u001b[0m\n",
      "\u001b[1mData:\u001b[0m\n",
      "['joy']\n",
      "0.4801861062088882\n",
      "\u001b[1mStoring Model...\u001b[0m\n",
      "\u001b[1mProcess Complete!!\n",
      "\n",
      "\n",
      "\u001b[0m\n",
      "\u001b[1m========================================  RDC  ========================================\u001b[0m\n",
      "\u001b[1mCreating Pipeline...\u001b[0m\n",
      "\u001b[1mTraining Model...\u001b[0m\n",
      "\u001b[1mData:\u001b[0m\n",
      "['joy']\n",
      "0.5512594256377347\n",
      "\u001b[1mStoring Model...\u001b[0m\n",
      "\u001b[1mProcess Complete!!\n",
      "\n",
      "\n",
      "\u001b[0m\n",
      "\u001b[1m========================================  LGR  ========================================\u001b[0m\n",
      "\u001b[1mCreating Pipeline...\u001b[0m\n",
      "\u001b[1mTraining Model...\u001b[0m\n",
      "\u001b[1mData:\u001b[0m\n",
      "['joy']\n",
      "0.5812610300016043\n",
      "\u001b[1mStoring Model...\u001b[0m\n",
      "\u001b[1mProcess Complete!!\n",
      "\n",
      "\n",
      "\u001b[0m\n",
      "\u001b[1m========================================  ADA  ========================================\u001b[0m\n",
      "\u001b[1mCreating Pipeline...\u001b[0m\n",
      "\u001b[1mTraining Model...\u001b[0m\n",
      "\u001b[1mData:\u001b[0m\n",
      "['joy']\n",
      "0.34269212257339965\n",
      "\u001b[1mStoring Model...\u001b[0m\n",
      "\u001b[1mProcess Complete!!\n",
      "\n",
      "\n",
      "\u001b[0m\n",
      "\u001b[1m========================================  KNN  ========================================\u001b[0m\n",
      "\u001b[1mCreating Pipeline...\u001b[0m\n",
      "\u001b[1mTraining Model...\u001b[0m\n",
      "\u001b[1mData:\u001b[0m\n",
      "['neutral']\n",
      "0.19813893791111825\n",
      "\u001b[1mStoring Model...\u001b[0m\n",
      "\u001b[1mProcess Complete!!\n",
      "\n",
      "\n",
      "\u001b[0m\n",
      "\u001b[1m========================================  ETC  ========================================\u001b[0m\n",
      "\u001b[1mCreating Pipeline...\u001b[0m\n",
      "\u001b[1mTraining Model...\u001b[0m\n",
      "\u001b[1mData:\u001b[0m\n",
      "['joy']\n",
      "0.5414728060324081\n",
      "\u001b[1mStoring Model...\u001b[0m\n",
      "\u001b[1mProcess Complete!!\n",
      "\n",
      "\n",
      "\u001b[0m\n",
      "\u001b[1m========================================  SVM  ========================================\u001b[0m\n",
      "\u001b[1mCreating Pipeline...\u001b[0m\n",
      "\u001b[1mTraining Model...\u001b[0m\n",
      "\u001b[1mData:\u001b[0m\n",
      "['joy']\n",
      "0.5689074282047168\n",
      "\u001b[1mStoring Model...\u001b[0m\n",
      "\u001b[1mProcess Complete!!\n",
      "\n",
      "\n",
      "\u001b[0m\n",
      "\u001b[1m========================================  RFC  ========================================\u001b[0m\n",
      "\u001b[1mCreating Pipeline...\u001b[0m\n",
      "\u001b[1mTraining Model...\u001b[0m\n",
      "\u001b[1mData:\u001b[0m\n",
      "['joy']\n",
      "0.5390662602278197\n",
      "\u001b[1mStoring Model...\u001b[0m\n",
      "\u001b[1mProcess Complete!!\n",
      "\n",
      "\n",
      "\u001b[0m\n",
      "\u001b[1m========================================  DTC  ========================================\u001b[0m\n",
      "\u001b[1mCreating Pipeline...\u001b[0m\n",
      "\u001b[1mTraining Model...\u001b[0m\n",
      "\u001b[1mData:\u001b[0m\n",
      "['anger']\n",
      "0.4769773784694369\n",
      "\u001b[1mStoring Model...\u001b[0m\n",
      "\u001b[1mProcess Complete!!\n",
      "\n",
      "\n",
      "\u001b[0m\n",
      "\u001b[1mTop 2 Scoring Models:\n",
      "('LGR', LogisticRegression(C=1.0, class_weight=None, dual=False, fit_intercept=True,\n",
      "                   intercept_scaling=1, l1_ratio=None, max_iter=10000,\n",
      "                   multi_class='auto', n_jobs=None, penalty='l2',\n",
      "                   random_state=None, solver='lbfgs', tol=0.0001, verbose=0,\n",
      "                   warm_start=False)): 0.5812610300016043\n",
      "('SVM', SVC(C=1.0, break_ties=False, cache_size=200, class_weight=None, coef0=0.0,\n",
      "    decision_function_shape='ovr', degree=3, gamma='scale', kernel='rbf',\n",
      "    max_iter=-1, probability=True, random_state=None, shrinking=True, tol=0.001,\n",
      "    verbose=False)): 0.5689074282047168\u001b[0m\n"
     ]
    }
   ],
   "source": [
    "buildModels(x_train, x_test, y_train, y_test)"
   ]
  }
 ],
 "metadata": {
  "colab": {
   "name": "Emotion Detector.ipynb",
   "provenance": []
  },
  "kernelspec": {
   "display_name": "Python 3",
   "language": "python",
   "name": "python3"
  },
  "language_info": {
   "codemirror_mode": {
    "name": "ipython",
    "version": 3
   },
   "file_extension": ".py",
   "mimetype": "text/x-python",
   "name": "python",
   "nbconvert_exporter": "python",
   "pygments_lexer": "ipython3",
   "version": "3.8.5"
  }
 },
 "nbformat": 4,
 "nbformat_minor": 5
}
